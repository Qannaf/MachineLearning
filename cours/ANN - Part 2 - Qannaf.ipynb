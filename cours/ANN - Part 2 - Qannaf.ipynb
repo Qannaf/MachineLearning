{
 "cells": [
  {
   "cell_type": "markdown",
   "metadata": {},
   "source": [
    "### Impoerter les paqages"
   ]
  },
  {
   "cell_type": "code",
   "execution_count": 1,
   "metadata": {},
   "outputs": [],
   "source": [
    "import numpy as np\n",
    "import pandas as pd\n",
    "%matplotlib inline\n",
    "import matplotlib as mpl\n",
    "import matplotlib.pyplot as plt\n",
    "\n",
    "import tensorflow as tf\n",
    "from tensorflow import keras\n",
    "from sklearn.datasets import fetch_california_housing\n",
    "from sklearn.model_selection import train_test_split\n",
    "from sklearn.preprocessing import StandardScaler"
   ]
  },
  {
   "cell_type": "markdown",
   "metadata": {},
   "source": [
    "### 1) Préparer la BDD"
   ]
  },
  {
   "cell_type": "code",
   "execution_count": 2,
   "metadata": {},
   "outputs": [
    {
     "data": {
      "text/plain": [
       "dict_keys(['data', 'target', 'feature_names', 'DESCR'])"
      ]
     },
     "execution_count": 2,
     "metadata": {},
     "output_type": "execute_result"
    }
   ],
   "source": [
    "df = fetch_california_housing()\n",
    "df.keys()"
   ]
  },
  {
   "cell_type": "markdown",
   "metadata": {},
   "source": [
    "####  \n",
    "  * difiser la Bdd train,test et validation"
   ]
  },
  {
   "cell_type": "code",
   "execution_count": 3,
   "metadata": {},
   "outputs": [],
   "source": [
    "X = df.data\n",
    "y = df.target\n",
    "X_train_full, X_test  ,    y_train_full, y_test   = train_test_split(X, y, random_state=42)\n",
    "X_train, X_valid      ,    y_train,y_valid        = train_test_split(X_train_full, y_train_full, random_state=42)"
   ]
  },
  {
   "cell_type": "code",
   "execution_count": 4,
   "metadata": {},
   "outputs": [],
   "source": [
    "scaler = StandardScaler()\n",
    "\n",
    "X_train = scaler.fit_transform(X_train)\n",
    "X_valid = scaler.transform(X_valid)\n",
    "X_test = scaler.transform(X_test)"
   ]
  },
  {
   "cell_type": "markdown",
   "metadata": {},
   "source": [
    "### 2) Création l'archetacture du model"
   ]
  },
  {
   "cell_type": "code",
   "execution_count": 5,
   "metadata": {},
   "outputs": [],
   "source": [
    "np.random.seed(42)\n",
    "tf.random.set_seed(42)\n",
    "\n",
    "model = keras.models.Sequential([\n",
    "    keras.layers.Dense(30, activation=\"relu\", input_shape=[8]),\n",
    "    keras.layers.Dense(30, activation=\"relu\"),\n",
    "    keras.layers.Dense(1)\n",
    "])\n",
    "\n",
    "\n",
    "#model.summary()"
   ]
  },
  {
   "cell_type": "markdown",
   "metadata": {},
   "source": [
    "### 3) Entainer le model"
   ]
  },
  {
   "cell_type": "code",
   "execution_count": 6,
   "metadata": {},
   "outputs": [
    {
     "name": "stdout",
     "output_type": "stream",
     "text": [
      "Train on 11610 samples, validate on 3870 samples\n",
      "Epoch 1/20\n",
      "11610/11610 [==============================] - 3s 282us/sample - loss: 1.8423 - mae: 0.9996 - val_loss: 5.2165 - val_mae: 0.7085\n",
      "Epoch 2/20\n",
      "11610/11610 [==============================] - 1s 81us/sample - loss: 0.6876 - mae: 0.6101 - val_loss: 0.7732 - val_mae: 0.5748\n",
      "Epoch 3/20\n",
      "11610/11610 [==============================] - 1s 69us/sample - loss: 0.5954 - mae: 0.5625 - val_loss: 0.5446 - val_mae: 0.5328\n",
      "Epoch 4/20\n",
      "11610/11610 [==============================] - 1s 75us/sample - loss: 0.5553 - mae: 0.5392 - val_loss: 0.5425 - val_mae: 0.5220\n",
      "Epoch 5/20\n",
      "11610/11610 [==============================] - 1s 96us/sample - loss: 0.5268 - mae: 0.5245 - val_loss: 0.5539 - val_mae: 0.5070\n",
      "Epoch 6/20\n",
      "11610/11610 [==============================] - 1s 81us/sample - loss: 0.5049 - mae: 0.5124 - val_loss: 0.4701 - val_mae: 0.4929\n",
      "Epoch 7/20\n",
      "11610/11610 [==============================] - 1s 93us/sample - loss: 0.4852 - mae: 0.5009 - val_loss: 0.4562 - val_mae: 0.4863\n",
      "Epoch 8/20\n",
      "11610/11610 [==============================] - 1s 82us/sample - loss: 0.4706 - mae: 0.4934 - val_loss: 0.4452 - val_mae: 0.4753\n",
      "Epoch 9/20\n",
      "11610/11610 [==============================] - 1s 70us/sample - loss: 0.4576 - mae: 0.4854 - val_loss: 0.4406 - val_mae: 0.4688\n",
      "Epoch 10/20\n",
      "11610/11610 [==============================] - 1s 78us/sample - loss: 0.4476 - mae: 0.4797 - val_loss: 0.4185 - val_mae: 0.4608\n",
      "Epoch 11/20\n",
      "11610/11610 [==============================] - 1s 85us/sample - loss: 0.4388 - mae: 0.4748 - val_loss: 0.4285 - val_mae: 0.4612\n",
      "Epoch 12/20\n",
      "11610/11610 [==============================] - 1s 78us/sample - loss: 0.4313 - mae: 0.4703 - val_loss: 0.4071 - val_mae: 0.4540\n",
      "Epoch 13/20\n",
      "11610/11610 [==============================] - 1s 68us/sample - loss: 0.4252 - mae: 0.4665 - val_loss: 0.3998 - val_mae: 0.4509\n",
      "Epoch 14/20\n",
      "11610/11610 [==============================] - 1s 67us/sample - loss: 0.4198 - mae: 0.4636 - val_loss: 0.3970 - val_mae: 0.4510\n",
      "Epoch 15/20\n",
      "11610/11610 [==============================] - 1s 72us/sample - loss: 0.4152 - mae: 0.4611 - val_loss: 0.4115 - val_mae: 0.4508\n",
      "Epoch 16/20\n",
      "11610/11610 [==============================] - 1s 65us/sample - loss: 0.4109 - mae: 0.4591 - val_loss: 0.3849 - val_mae: 0.4436\n",
      "Epoch 17/20\n",
      "11610/11610 [==============================] - 1s 67us/sample - loss: 0.4073 - mae: 0.4567 - val_loss: 0.3862 - val_mae: 0.4398\n",
      "Epoch 18/20\n",
      "11610/11610 [==============================] - 1s 69us/sample - loss: 0.4037 - mae: 0.4544 - val_loss: 0.3907 - val_mae: 0.4388\n",
      "Epoch 19/20\n",
      "11610/11610 [==============================] - 1s 65us/sample - loss: 0.4003 - mae: 0.4521 - val_loss: 0.3751 - val_mae: 0.4353\n",
      "Epoch 20/20\n",
      "11610/11610 [==============================] - 1s 80us/sample - loss: 0.3974 - mae: 0.4506 - val_loss: 0.3711 - val_mae: 0.4336\n"
     ]
    }
   ],
   "source": [
    "model.compile(loss=\"mean_squared_error\", optimizer=keras.optimizers.SGD(lr=1e-3), metrics=['mae'])\n",
    "\n",
    "model_h = model.fit(X_train, y_train, epochs=20, validation_data=(X_valid, y_valid))"
   ]
  },
  {
   "cell_type": "markdown",
   "metadata": {},
   "source": [
    "### 4) tester la performence de model"
   ]
  },
  {
   "cell_type": "code",
   "execution_count": 7,
   "metadata": {},
   "outputs": [
    {
     "data": {
      "image/png": "[encoded data removed]",
      "text/plain": [
       "<Figure size 576x360 with 1 Axes>"
      ]
     },
     "metadata": {
      "needs_background": "light"
     },
     "output_type": "display_data"
    },
    {
     "name": "stdout",
     "output_type": "stream",
     "text": [
      "5160/5160 [==============================] - 0s 32us/sample - loss: 0.3943 - mae: 0.4491\n"
     ]
    },
    {
     "data": {
      "text/plain": [
       "[0.394307673277781, 0.44909477]"
      ]
     },
     "execution_count": 7,
     "metadata": {},
     "output_type": "execute_result"
    }
   ],
   "source": [
    "#model_h.history\n",
    "#model_h.params\n",
    "pd.DataFrame(model_h.history).plot(figsize=(8, 5))\n",
    "plt.grid(True)\n",
    "plt.gca().set_ylim(0, 1)\n",
    "plt.show()\n",
    "\n",
    "model.evaluate(X_test, y_test)"
   ]
  },
  {
   "cell_type": "markdown",
   "metadata": {},
   "source": [
    "### 5) Validation le model"
   ]
  },
  {
   "cell_type": "code",
   "execution_count": 8,
   "metadata": {},
   "outputs": [
    {
     "name": "stdout",
     "output_type": "stream",
     "text": [
      "[[1]\n",
      " [1]\n",
      " [1]]\n",
      "[0.477   0.458   5.00001]\n"
     ]
    }
   ],
   "source": [
    "X_new = X_test[:3]\n",
    "\n",
    "y_pred = model.predict_classes(X_new)\n",
    "\n",
    "\n",
    "print (y_pred)\n",
    "print(y_test[:3])"
   ]
  },
  {
   "cell_type": "code",
   "execution_count": null,
   "metadata": {},
   "outputs": [],
   "source": []
  }
 ],
 "metadata": {
  "kernelspec": {
   "display_name": "Python 3",
   "language": "python",
   "name": "python3"
  },
  "language_info": {
   "codemirror_mode": {
    "name": "ipython",
    "version": 3
   },
   "file_extension": ".py",
   "mimetype": "text/x-python",
   "name": "python",
   "nbconvert_exporter": "python",
   "pygments_lexer": "ipython3",
   "version": "3.7.7"
  }
 },
 "nbformat": 4,
 "nbformat_minor": 4
}
