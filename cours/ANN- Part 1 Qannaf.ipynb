{
 "cells": [
  {
   "cell_type": "markdown",
   "metadata": {},
   "source": [
    "### impoerter les package "
   ]
  },
  {
   "cell_type": "code",
   "execution_count": 1,
   "metadata": {},
   "outputs": [],
   "source": [
    "import numpy as np\n",
    "import pandas as pd\n",
    "%matplotlib inline\n",
    "import matplotlib as mpl\n",
    "import matplotlib.pyplot as plt\n",
    "import pydot\n",
    "import pandas as pd\n",
    "\n",
    "import tensorflow as tf\n",
    "from tensorflow import keras\n",
    "from tensorflow.keras.models import model_from_json\n"
   ]
  },
  {
   "cell_type": "markdown",
   "metadata": {},
   "source": [
    "### 1) Préparation la BDD"
   ]
  },
  {
   "cell_type": "code",
   "execution_count": 2,
   "metadata": {},
   "outputs": [],
   "source": [
    "df = keras.datasets.fashion_mnist\n",
    "\n",
    "(X_train, y_train), (X_test, y_test) = df.load_data()\n",
    "\n",
    "class_names = [\"T-shirt/top\", \"Trouser\", \"Pullover\", \"Dress\", \"Coat\",\n",
    "               \"Sandal\", \"Shirt\", \"Sneaker\", \"Bag\", \"Ankle boot\"]"
   ]
  },
  {
   "cell_type": "code",
   "execution_count": 3,
   "metadata": {},
   "outputs": [
    {
     "name": "stdout",
     "output_type": "stream",
     "text": [
      "9\n",
      "Ankle boot\n",
      "s.v.p metrre  Ankle boot à l'indice 9\n"
     ]
    },
    {
     "data": {
      "image/png": "[encoded data removed]",
      "text/plain": [
       "<Figure size 432x288 with 1 Axes>"
      ]
     },
     "metadata": {
      "needs_background": "light"
     },
     "output_type": "display_data"
    }
   ],
   "source": [
    "plt.imshow(X_train[0])\n",
    "print(y_train[0])\n",
    "print(class_names[y_train[0]])\n",
    "\n",
    "print(\"s.v.p metrre \",class_names[y_train[0]],\"à l'indice\" ,y_train[0])"
   ]
  },
  {
   "cell_type": "markdown",
   "metadata": {},
   "source": [
    "##### *  normaliser la BDD"
   ]
  },
  {
   "cell_type": "code",
   "execution_count": 4,
   "metadata": {},
   "outputs": [],
   "source": [
    "X_train_n = X_train/ 255.\n",
    "X_test_n = X_test / 255.\n"
   ]
  },
  {
   "cell_type": "markdown",
   "metadata": {},
   "source": [
    "#### * Split the data into train/validation/test datasets"
   ]
  },
  {
   "cell_type": "code",
   "execution_count": 5,
   "metadata": {},
   "outputs": [],
   "source": [
    "X_train, X_valid     =    X_train_n[5000:],  X_train_n[:5000]\n",
    "y_train, y_valid     =    y_train[5000:],    y_train[:5000]\n",
    "X_test = X_test_n"
   ]
  },
  {
   "cell_type": "markdown",
   "metadata": {},
   "source": [
    "### 2) Création l'architecture de model"
   ]
  },
  {
   "cell_type": "code",
   "execution_count": 6,
   "metadata": {},
   "outputs": [],
   "source": [
    "np.random.seed(42)\n",
    "tf.random.set_seed(42)\n",
    "\n",
    "model = keras.models.Sequential()\n",
    "model.add(keras.layers.Flatten(input_shape=[28, 28]))\n",
    "model.add(keras.layers.Dense(300, activation=\"relu\"))\n",
    "model.add(keras.layers.Dense(100, activation=\"relu\"))\n",
    "model.add(keras.layers.Dense(10, activation=\"softmax\"))\n",
    "\n",
    "#model.summary()\n",
    "\n",
    "##obtenir les parametres de notre model\n",
    "#weights, biases = model.layers[1].get_weights()"
   ]
  },
  {
   "cell_type": "markdown",
   "metadata": {},
   "source": []
  },
  {
   "cell_type": "markdown",
   "metadata": {},
   "source": [
    "### 3) Entrainer le model"
   ]
  },
  {
   "cell_type": "code",
   "execution_count": 7,
   "metadata": {},
   "outputs": [],
   "source": [
    "model.compile(loss=\"sparse_categorical_crossentropy\",optimizer=\"sgd\",metrics=[\"accuracy\"])"
   ]
  },
  {
   "cell_type": "code",
   "execution_count": 8,
   "metadata": {},
   "outputs": [
    {
     "name": "stdout",
     "output_type": "stream",
     "text": [
      "Train on 55000 samples, validate on 5000 samples\n",
      "Epoch 1/30\n",
      "55000/55000 [==============================] - 23s 414us/sample - loss: 0.7226 - accuracy: 0.7640 - val_loss: 0.5076 - val_accuracy: 0.8314\n",
      "Epoch 2/30\n",
      "55000/55000 [==============================] - 22s 395us/sample - loss: 0.4843 - accuracy: 0.8324 - val_loss: 0.4541 - val_accuracy: 0.8490\n",
      "Epoch 3/30\n",
      "55000/55000 [==============================] - 19s 347us/sample - loss: 0.4413 - accuracy: 0.8461 - val_loss: 0.4372 - val_accuracy: 0.8500\n",
      "Epoch 4/30\n",
      "55000/55000 [==============================] - 19s 342us/sample - loss: 0.4128 - accuracy: 0.8545 - val_loss: 0.4152 - val_accuracy: 0.8562\n",
      "Epoch 5/30\n",
      "55000/55000 [==============================] - 18s 322us/sample - loss: 0.3926 - accuracy: 0.8618 - val_loss: 0.3807 - val_accuracy: 0.8652\n",
      "Epoch 6/30\n",
      "55000/55000 [==============================] - 20s 362us/sample - loss: 0.3770 - accuracy: 0.8664 - val_loss: 0.3723 - val_accuracy: 0.8680\n",
      "Epoch 7/30\n",
      "55000/55000 [==============================] - 19s 352us/sample - loss: 0.3625 - accuracy: 0.8731 - val_loss: 0.3701 - val_accuracy: 0.8704\n",
      "Epoch 8/30\n",
      "55000/55000 [==============================] - 19s 349us/sample - loss: 0.3516 - accuracy: 0.8743 - val_loss: 0.3662 - val_accuracy: 0.8700\n",
      "Epoch 9/30\n",
      "55000/55000 [==============================] - 20s 362us/sample - loss: 0.3419 - accuracy: 0.8769 - val_loss: 0.3437 - val_accuracy: 0.8784\n",
      "Epoch 10/30\n",
      "55000/55000 [==============================] - 19s 337us/sample - loss: 0.3325 - accuracy: 0.8811 - val_loss: 0.3508 - val_accuracy: 0.8784\n",
      "Epoch 11/30\n",
      "55000/55000 [==============================] - 18s 325us/sample - loss: 0.3239 - accuracy: 0.8838 - val_loss: 0.3360 - val_accuracy: 0.8812\n",
      "Epoch 12/30\n",
      "55000/55000 [==============================] - 20s 365us/sample - loss: 0.3158 - accuracy: 0.8870 - val_loss: 0.3306 - val_accuracy: 0.8848\n",
      "Epoch 13/30\n",
      "55000/55000 [==============================] - 19s 348us/sample - loss: 0.3071 - accuracy: 0.8902 - val_loss: 0.3326 - val_accuracy: 0.8818\n",
      "Epoch 14/30\n",
      "55000/55000 [==============================] - 19s 348us/sample - loss: 0.3014 - accuracy: 0.8921 - val_loss: 0.3227 - val_accuracy: 0.8872\n",
      "Epoch 15/30\n",
      "55000/55000 [==============================] - 20s 355us/sample - loss: 0.2951 - accuracy: 0.8938 - val_loss: 0.3163 - val_accuracy: 0.8900\n",
      "Epoch 16/30\n",
      "55000/55000 [==============================] - 19s 343us/sample - loss: 0.2895 - accuracy: 0.8963 - val_loss: 0.3250 - val_accuracy: 0.8882\n",
      "Epoch 17/30\n",
      "55000/55000 [==============================] - 18s 335us/sample - loss: 0.2832 - accuracy: 0.8984 - val_loss: 0.3173 - val_accuracy: 0.8910\n",
      "Epoch 18/30\n",
      "55000/55000 [==============================] - 20s 364us/sample - loss: 0.2782 - accuracy: 0.8997 - val_loss: 0.3095 - val_accuracy: 0.8908\n",
      "Epoch 19/30\n",
      "55000/55000 [==============================] - 21s 379us/sample - loss: 0.2728 - accuracy: 0.9019 - val_loss: 0.3179 - val_accuracy: 0.8862\n",
      "Epoch 20/30\n",
      "55000/55000 [==============================] - 22s 398us/sample - loss: 0.2679 - accuracy: 0.9042 - val_loss: 0.3203 - val_accuracy: 0.8854\n",
      "Epoch 21/30\n",
      "55000/55000 [==============================] - 21s 376us/sample - loss: 0.2632 - accuracy: 0.9044 - val_loss: 0.2990 - val_accuracy: 0.8942\n",
      "Epoch 22/30\n",
      "55000/55000 [==============================] - 20s 371us/sample - loss: 0.2576 - accuracy: 0.9075 - val_loss: 0.3086 - val_accuracy: 0.8882\n",
      "Epoch 23/30\n",
      "55000/55000 [==============================] - 22s 407us/sample - loss: 0.2538 - accuracy: 0.9085 - val_loss: 0.2998 - val_accuracy: 0.8902\n",
      "Epoch 24/30\n",
      "55000/55000 [==============================] - 22s 396us/sample - loss: 0.2490 - accuracy: 0.9098 - val_loss: 0.3088 - val_accuracy: 0.8868\n",
      "Epoch 25/30\n",
      "55000/55000 [==============================] - 23s 417us/sample - loss: 0.2450 - accuracy: 0.9127 - val_loss: 0.3108 - val_accuracy: 0.8904\n",
      "Epoch 26/30\n",
      "55000/55000 [==============================] - 23s 412us/sample - loss: 0.2406 - accuracy: 0.9145 - val_loss: 0.3258 - val_accuracy: 0.8836\n",
      "Epoch 27/30\n",
      "55000/55000 [==============================] - 21s 374us/sample - loss: 0.2365 - accuracy: 0.9152 - val_loss: 0.3125 - val_accuracy: 0.8858\n",
      "Epoch 28/30\n",
      "55000/55000 [==============================] - 20s 358us/sample - loss: 0.2321 - accuracy: 0.9175 - val_loss: 0.2920 - val_accuracy: 0.8952\n",
      "Epoch 29/30\n",
      "55000/55000 [==============================] - 21s 388us/sample - loss: 0.2286 - accuracy: 0.9187 - val_loss: 0.2968 - val_accuracy: 0.8928\n",
      "Epoch 30/30\n",
      "55000/55000 [==============================] - 23s 422us/sample - loss: 0.2257 - accuracy: 0.9194 - val_loss: 0.3021 - val_accuracy: 0.8890\n"
     ]
    }
   ],
   "source": [
    "model_h = model.fit(X_train, y_train, epochs=30, validation_data=(X_valid, y_valid))"
   ]
  },
  {
   "cell_type": "markdown",
   "metadata": {},
   "source": [
    "### 4) tester la performence de model"
   ]
  },
  {
   "cell_type": "code",
   "execution_count": 9,
   "metadata": {},
   "outputs": [
    {
     "data": {
      "image/png": "[encoded data removed]",
      "text/plain": [
       "<Figure size 576x360 with 1 Axes>"
      ]
     },
     "metadata": {
      "needs_background": "light"
     },
     "output_type": "display_data"
    },
    {
     "name": "stdout",
     "output_type": "stream",
     "text": [
      "10000/10000 [==============================] - 2s 175us/sample - loss: 0.3340 - accuracy: 0.8806\n"
     ]
    },
    {
     "data": {
      "text/plain": [
       "[0.3340370476841927, 0.8806]"
      ]
     },
     "execution_count": 9,
     "metadata": {},
     "output_type": "execute_result"
    }
   ],
   "source": [
    "#model_h.params\n",
    "#model_h.history\n",
    "\n",
    "pd.DataFrame(model_h.history).plot(figsize=(8, 5))\n",
    "plt.grid(True)\n",
    "plt.gca().set_ylim(0, 1)\n",
    "plt.show()\n",
    "\n",
    "model.evaluate(X_test, y_test)"
   ]
  },
  {
   "cell_type": "markdown",
   "metadata": {},
   "source": [
    "### 5) Validation le model"
   ]
  },
  {
   "cell_type": "code",
   "execution_count": 10,
   "metadata": {},
   "outputs": [
    {
     "data": {
      "text/plain": [
       "array(['Ankle boot', 'Pullover', 'Trouser'], dtype='<U11')"
      ]
     },
     "execution_count": 10,
     "metadata": {},
     "output_type": "execute_result"
    }
   ],
   "source": [
    "X_new = X_test[:3]\n",
    "\n",
    "y_pred = model.predict_classes(X_new)\n",
    "\n",
    "\n",
    "np.array(class_names)[y_pred]\n",
    "\n"
   ]
  },
  {
   "cell_type": "code",
   "execution_count": 11,
   "metadata": {},
   "outputs": [
    {
     "name": "stdout",
     "output_type": "stream",
     "text": [
      "AxesImage(54,36;334.8x217.44)\n"
     ]
    },
    {
     "data": {
      "image/png": "[encoded data removed]",
      "text/plain": [
       "<Figure size 432x288 with 1 Axes>"
      ]
     },
     "metadata": {
      "needs_background": "light"
     },
     "output_type": "display_data"
    }
   ],
   "source": [
    "\n",
    "print(plt.imshow(X_test[0]))\n"
   ]
  },
  {
   "cell_type": "code",
   "execution_count": 12,
   "metadata": {},
   "outputs": [
    {
     "name": "stdout",
     "output_type": "stream",
     "text": [
      "AxesImage(54,36;334.8x217.44)\n"
     ]
    },
    {
     "data": {
      "image/png": "[encoded data removed]",
      "text/plain": [
       "<Figure size 432x288 with 1 Axes>"
      ]
     },
     "metadata": {
      "needs_background": "light"
     },
     "output_type": "display_data"
    }
   ],
   "source": [
    "print(plt.imshow(X_test[1]))\n"
   ]
  },
  {
   "cell_type": "code",
   "execution_count": 15,
   "metadata": {},
   "outputs": [
    {
     "name": "stdout",
     "output_type": "stream",
     "text": [
      "AxesImage(54,36;334.8x217.44)\n"
     ]
    },
    {
     "data": {
      "image/png": "[encoded data removed]",
      "text/plain": [
       "<Figure size 432x288 with 1 Axes>"
      ]
     },
     "metadata": {
      "needs_background": "light"
     },
     "output_type": "display_data"
    }
   ],
   "source": [
    "print(plt.imshow(X_test[2]))"
   ]
  },
  {
   "cell_type": "code",
   "execution_count": null,
   "metadata": {},
   "outputs": [],
   "source": []
  }
 ],
 "metadata": {
  "kernelspec": {
   "display_name": "Python 3",
   "language": "python",
   "name": "python3"
  },
  "language_info": {
   "codemirror_mode": {
    "name": "ipython",
    "version": 3
   },
   "file_extension": ".py",
   "mimetype": "text/x-python",
   "name": "python",
   "nbconvert_exporter": "python",
   "pygments_lexer": "ipython3",
   "version": "3.7.7"
  }
 },
 "nbformat": 4,
 "nbformat_minor": 4
}
